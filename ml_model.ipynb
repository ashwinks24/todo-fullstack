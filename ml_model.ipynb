{
  "nbformat": 4,
  "nbformat_minor": 0,
  "metadata": {
    "colab": {
      "provenance": []
    },
    "kernelspec": {
      "name": "python3",
      "display_name": "Python 3"
    },
    "language_info": {
      "name": "python"
    }
  },
  "cells": [
    {
      "cell_type": "code",
      "source": [
        "import pandas as pd\n",
        "import re\n",
        "import nltk\n",
        "from sklearn.model_selection import train_test_split\n",
        "from sklearn.feature_extraction.text import TfidfVectorizer\n",
        "from sklearn.naive_bayes import MultinomialNB\n",
        "from sklearn.metrics import accuracy_score, confusion_matrix, classification_report\n",
        "from nltk.corpus import stopwords\n",
        "from nltk.stem import PorterStemmer\n",
        "\n",
        "nltk.download('stopwords')\n",
        "stop_words = set(stopwords.words('english'))\n",
        "stemmer = PorterStemmer()\n",
        "\n",
        "\n",
        "url = \"https://raw.githubusercontent.com/justmarkham/pycon-2016-tutorial/master/data/sms.tsv\"\n",
        "data = pd.read_csv(url, sep=\"\\t\", header=None, names=[\"label\", \"message\"])\n",
        "\n",
        "\n",
        "def preprocess(text):\n",
        "    text = text.lower()\n",
        "    text = re.sub(r'[^a-z ]+', '', text)\n",
        "    return text\n",
        "\n",
        "\n",
        "data[\"message_clean\"] = data[\"message\"].apply(preprocess)\n",
        "data[\"label_num\"] = data[\"label\"].map({\"ham\": 0, \"spam\": 1})\n",
        "\n",
        "X_train, X_test, y_train, y_test = train_test_split(data[\"message_clean\"], data[\"label_num\"], test_size=0.2, random_state=42)\n",
        "\n",
        "\n",
        "vectorizer = TfidfVectorizer()\n",
        "X_train_tf = vectorizer.fit_transform(X_train)\n",
        "X_test_tf = vectorizer.transform(X_test)\n",
        "\n",
        "\n",
        "model = MultinomialNB()\n",
        "model.fit(X_train_tf, y_train)\n",
        "\n",
        "y_pred = model.predict(X_test_tf)\n",
        "print(\"✅ Accuracy:\", accuracy_score(y_test, y_pred))\n",
        "print(\"\\n📊 Confusion Matrix:\\n\", confusion_matrix(y_test, y_pred))\n",
        "print(\"\\n📝 Classification Report:\\n\", classification_report(y_test, y_pred))\n",
        "\n",
        "def check_email_spam(msg):\n",
        "    msg_clean = preprocess(msg)\n",
        "    msg_tf = vectorizer.transform([msg_clean])\n",
        "    prediction = model.predict(msg_tf)[0]\n",
        "    return \"Spam\" if prediction == 1 else \"Not Spam\"\n",
        "\n",
        "email = \"Congratulations! You've won a free iPhone. Call now.\"\n",
        "print(\"\\n🔍 Prediction for custom email:\\n\", email)\n",
        "print(\"➡️ Result:\", check_email_spam(email))\n"
      ],
      "metadata": {
        "colab": {
          "base_uri": "https://localhost:8080/"
        },
        "id": "TheeptrlSn3J",
        "outputId": "0c91fb53-c9ee-4371-8c1a-d150243225da"
      },
      "execution_count": 5,
      "outputs": [
        {
          "output_type": "stream",
          "name": "stderr",
          "text": [
            "[nltk_data] Downloading package stopwords to /root/nltk_data...\n",
            "[nltk_data]   Package stopwords is already up-to-date!\n"
          ]
        },
        {
          "output_type": "stream",
          "name": "stdout",
          "text": [
            "✅ Accuracy: 0.957847533632287\n",
            "\n",
            "📊 Confusion Matrix:\n",
            " [[966   0]\n",
            " [ 47 102]]\n",
            "\n",
            "📝 Classification Report:\n",
            "               precision    recall  f1-score   support\n",
            "\n",
            "           0       0.95      1.00      0.98       966\n",
            "           1       1.00      0.68      0.81       149\n",
            "\n",
            "    accuracy                           0.96      1115\n",
            "   macro avg       0.98      0.84      0.89      1115\n",
            "weighted avg       0.96      0.96      0.95      1115\n",
            "\n",
            "\n",
            "🔍 Prediction for custom email:\n",
            " Congratulations! You've won a free iPhone. Call now.\n",
            "➡️ Result: Spam\n"
          ]
        }
      ]
    },
    {
      "cell_type": "code",
      "source": [],
      "metadata": {
        "id": "npmAfa6NTjyR"
      },
      "execution_count": null,
      "outputs": []
    }
  ]
}